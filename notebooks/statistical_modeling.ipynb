{
 "cells": [
  {
   "cell_type": "markdown",
   "metadata": {},
   "source": [
    "### Add scripts path to the notebook"
   ]
  },
  {
   "cell_type": "code",
   "execution_count": 1,
   "metadata": {},
   "outputs": [
    {
     "name": "stdout",
     "output_type": "stream",
     "text": [
      "d:\\KifiyaAIM-Course\\Week - 3\\ACIS-Car-Insurance-Claim-Analysis\\notebooks\n"
     ]
    }
   ],
   "source": [
    "import sys\n",
    "import os\n",
    "\n",
    "current_dir = os.getcwd()\n",
    "print(current_dir)\n",
    "\n",
    "# Get the parent directory\n",
    "parent_dir = os.path.dirname(current_dir)\n",
    "\n",
    "scripts_path = os.path.join(parent_dir, 'scripts')\n",
    "\n",
    "# Insert the path to the parent directory\n",
    "sys.path.insert(0, parent_dir)\n",
    "\n",
    "# Insert the path to the Scripts directory\n",
    "sys.path.insert(0, scripts_path)\n",
    "\n",
    "# Add the parent directory to the Python path\n",
    "sys.path.append(os.path.abspath(os.path.join('..')))"
   ]
  },
  {
   "cell_type": "markdown",
   "metadata": {},
   "source": [
    "### Import Statements"
   ]
  },
  {
   "cell_type": "code",
   "execution_count": 62,
   "metadata": {},
   "outputs": [],
   "source": [
    "import math\n",
    "import numpy as np\n",
    "import pandas as pd\n",
    "import seaborn as sns\n",
    "from matplotlib import pyplot as plt\n",
    "\n",
    "from sklearn.cluster import KMeans\n",
    "from sklearn.preprocessing import Normalizer\n",
    "\n",
    "from sklearn.linear_model import LinearRegression\n",
    "from sklearn.ensemble import RandomForestRegressor, GradientBoostingRegressor\n",
    "from sklearn.tree import DecisionTreeRegressor\n",
    "from sklearn.svm import SVR\n",
    "\n",
    "from sklearn.preprocessing import LabelEncoder"
   ]
  },
  {
   "cell_type": "markdown",
   "metadata": {},
   "source": [
    "### Load the data"
   ]
  },
  {
   "cell_type": "code",
   "execution_count": 3,
   "metadata": {},
   "outputs": [],
   "source": [
    "PATH_TO_DATA = \"../data/MachineLearningRating_v3.txt\""
   ]
  },
  {
   "cell_type": "code",
   "execution_count": 4,
   "metadata": {},
   "outputs": [],
   "source": [
    "data = pd.read_csv(filepath_or_buffer=PATH_TO_DATA, delimiter='|', low_memory=False)"
   ]
  },
  {
   "cell_type": "markdown",
   "metadata": {},
   "source": [
    "### Data Cleaning"
   ]
  },
  {
   "cell_type": "markdown",
   "metadata": {},
   "source": [
    "1) Find missing values"
   ]
  },
  {
   "cell_type": "code",
   "execution_count": 6,
   "metadata": {},
   "outputs": [
    {
     "data": {
      "text/plain": [
       "NumberOfVehiclesInFleet    100.000000\n",
       "CrossBorder                 99.930207\n",
       "CustomValueEstimate         77.956560\n",
       "WrittenOff                  64.183810\n",
       "Converted                   64.183810\n",
       "Rebuilt                     64.183810\n",
       "NewVehicle                  15.327998\n",
       "Bank                        14.594670\n",
       "AccountType                  4.022806\n",
       "Gender                       0.953507\n",
       "MaritalStatus                0.825819\n",
       "mmcode                       0.055195\n",
       "VehicleType                  0.055195\n",
       "make                         0.055195\n",
       "VehicleIntroDate             0.055195\n",
       "NumberOfDoors                0.055195\n",
       "bodytype                     0.055195\n",
       "kilowatts                    0.055195\n",
       "cubiccapacity                0.055195\n",
       "Cylinders                    0.055195\n",
       "Model                        0.055195\n",
       "CapitalOutstanding           0.000200\n",
       "dtype: float64"
      ]
     },
     "execution_count": 6,
     "metadata": {},
     "output_type": "execute_result"
    }
   ],
   "source": [
    "# find columns with na values\n",
    "column_na_rations = data.isna().mean()\n",
    "\n",
    "# print out columns that have missing values and the amount of missing values as percentages\n",
    "column_na_rations[column_na_rations > 0].sort_values(ascending=False) * 100"
   ]
  },
  {
   "cell_type": "markdown",
   "metadata": {},
   "source": [
    "2) Handle missing values"
   ]
  },
  {
   "cell_type": "markdown",
   "metadata": {},
   "source": [
    "- drop columns with a lot of missing values, i.e greater than 50%"
   ]
  },
  {
   "cell_type": "code",
   "execution_count": 12,
   "metadata": {},
   "outputs": [],
   "source": [
    "# find the columns with missing values greater than 50%\n",
    "to_be_droped = column_na_rations[column_na_rations > 0.5].keys()\n",
    "\n",
    "# drop the columns\n",
    "data = data.drop(columns=to_be_droped)"
   ]
  },
  {
   "cell_type": "markdown",
   "metadata": {},
   "source": [
    "- removes data for column with missing values less than 5%"
   ]
  },
  {
   "cell_type": "code",
   "execution_count": 13,
   "metadata": {},
   "outputs": [],
   "source": [
    "# find the columns with missing values less than 5%\n",
    "to_be_droped = column_na_rations[column_na_rations < 0.05].keys()\n",
    "\n",
    "# drop the columns\n",
    "data = data.dropna(subset=to_be_droped)"
   ]
  },
  {
   "cell_type": "markdown",
   "metadata": {},
   "source": [
    "- For columns in between use mode or mean(depending on column data type) to replace the missing values"
   ]
  },
  {
   "cell_type": "code",
   "execution_count": 21,
   "metadata": {},
   "outputs": [],
   "source": [
    "# find the columns with missing values greater than 5% and less than 50%\n",
    "to_be_replaced = column_na_rations[(column_na_rations >= 0.05) & (column_na_rations <=0.5)].keys()"
   ]
  },
  {
   "cell_type": "markdown",
   "metadata": {},
   "source": [
    "Find the data type of those columns"
   ]
  },
  {
   "cell_type": "code",
   "execution_count": 22,
   "metadata": {},
   "outputs": [
    {
     "data": {
      "text/plain": [
       "Bank          object\n",
       "NewVehicle    object\n",
       "dtype: object"
      ]
     },
     "execution_count": 22,
     "metadata": {},
     "output_type": "execute_result"
    }
   ],
   "source": [
    "data[[*to_be_replaced]].dtypes"
   ]
  },
  {
   "cell_type": "markdown",
   "metadata": {},
   "source": [
    "Both are categorical so I will use their respective modes"
   ]
  },
  {
   "cell_type": "code",
   "execution_count": 24,
   "metadata": {},
   "outputs": [],
   "source": [
    "for column in to_be_replaced:\n",
    "    # Get the mode of the column\n",
    "    mode_value = data[column].mode()[0]  \n",
    "    # Fill missing values with the mode\n",
    "    data[column] = data[column].fillna(mode_value)  "
   ]
  },
  {
   "cell_type": "markdown",
   "metadata": {},
   "source": [
    "Finally check for the missing values"
   ]
  },
  {
   "cell_type": "code",
   "execution_count": 25,
   "metadata": {},
   "outputs": [
    {
     "data": {
      "text/plain": [
       "Series([], dtype: float64)"
      ]
     },
     "execution_count": 25,
     "metadata": {},
     "output_type": "execute_result"
    }
   ],
   "source": [
    "# find columns with na values\n",
    "column_na_rations = data.isna().mean()\n",
    "\n",
    "# print out columns that have missing values and the amount of missing values as percentages\n",
    "column_na_rations[column_na_rations > 0].sort_values(ascending=False) * 100"
   ]
  },
  {
   "cell_type": "markdown",
   "metadata": {},
   "source": [
    "### Feature Engineering"
   ]
  },
  {
   "cell_type": "markdown",
   "metadata": {},
   "source": [
    "1) I wanted to calculate the optimal premium values for every customer based on their TotalClaims. As this is a business money needs to be made and hence the premium price should at least give a return of 0, break even. So I will create a new feature , from TotalClaims and TotalPremium, called OptimumPremium."
   ]
  },
  {
   "cell_type": "code",
   "execution_count": 60,
   "metadata": {},
   "outputs": [],
   "source": [
    "# if the difference between totalPremium and totalClaims is negative then set the optimum premim = totalPremium + (TotalClaims - TotalPremium) else just make it equal to total premium\n",
    "data['OptimalPremium'] = data['TotalPremium'] + np.minimum(0, data['TotalPremium'] - data['TotalClaims']) * -1"
   ]
  },
  {
   "cell_type": "markdown",
   "metadata": {},
   "source": [
    "Check the result of the top 10 rows"
   ]
  },
  {
   "cell_type": "code",
   "execution_count": 61,
   "metadata": {},
   "outputs": [
    {
     "data": {
      "text/html": [
       "<div>\n",
       "<style scoped>\n",
       "    .dataframe tbody tr th:only-of-type {\n",
       "        vertical-align: middle;\n",
       "    }\n",
       "\n",
       "    .dataframe tbody tr th {\n",
       "        vertical-align: top;\n",
       "    }\n",
       "\n",
       "    .dataframe thead th {\n",
       "        text-align: right;\n",
       "    }\n",
       "</style>\n",
       "<table border=\"1\" class=\"dataframe\">\n",
       "  <thead>\n",
       "    <tr style=\"text-align: right;\">\n",
       "      <th></th>\n",
       "      <th>TotalClaims</th>\n",
       "      <th>TotalPremium</th>\n",
       "      <th>OptimalPremium</th>\n",
       "    </tr>\n",
       "  </thead>\n",
       "  <tbody>\n",
       "    <tr>\n",
       "      <th>451249</th>\n",
       "      <td>393092.105263</td>\n",
       "      <td>243.538333</td>\n",
       "      <td>393092.105263</td>\n",
       "    </tr>\n",
       "    <tr>\n",
       "      <th>601844</th>\n",
       "      <td>376432.491228</td>\n",
       "      <td>562.617807</td>\n",
       "      <td>376432.491228</td>\n",
       "    </tr>\n",
       "    <tr>\n",
       "      <th>818316</th>\n",
       "      <td>363343.421053</td>\n",
       "      <td>1065.027982</td>\n",
       "      <td>363343.421053</td>\n",
       "    </tr>\n",
       "    <tr>\n",
       "      <th>173451</th>\n",
       "      <td>304338.657895</td>\n",
       "      <td>818.206140</td>\n",
       "      <td>304338.657895</td>\n",
       "    </tr>\n",
       "    <tr>\n",
       "      <th>172766</th>\n",
       "      <td>302361.149123</td>\n",
       "      <td>825.392281</td>\n",
       "      <td>302361.149123</td>\n",
       "    </tr>\n",
       "    <tr>\n",
       "      <th>402798</th>\n",
       "      <td>286686.431053</td>\n",
       "      <td>783.867018</td>\n",
       "      <td>286686.431053</td>\n",
       "    </tr>\n",
       "    <tr>\n",
       "      <th>803349</th>\n",
       "      <td>269311.929825</td>\n",
       "      <td>806.181579</td>\n",
       "      <td>269311.929825</td>\n",
       "    </tr>\n",
       "    <tr>\n",
       "      <th>904510</th>\n",
       "      <td>265789.473684</td>\n",
       "      <td>1060.473070</td>\n",
       "      <td>265789.473684</td>\n",
       "    </tr>\n",
       "    <tr>\n",
       "      <th>920077</th>\n",
       "      <td>263157.632807</td>\n",
       "      <td>857.887193</td>\n",
       "      <td>263157.632807</td>\n",
       "    </tr>\n",
       "    <tr>\n",
       "      <th>710484</th>\n",
       "      <td>261307.017544</td>\n",
       "      <td>1261.964035</td>\n",
       "      <td>261307.017544</td>\n",
       "    </tr>\n",
       "  </tbody>\n",
       "</table>\n",
       "</div>"
      ],
      "text/plain": [
       "          TotalClaims  TotalPremium  OptimalPremium\n",
       "451249  393092.105263    243.538333   393092.105263\n",
       "601844  376432.491228    562.617807   376432.491228\n",
       "818316  363343.421053   1065.027982   363343.421053\n",
       "173451  304338.657895    818.206140   304338.657895\n",
       "172766  302361.149123    825.392281   302361.149123\n",
       "402798  286686.431053    783.867018   286686.431053\n",
       "803349  269311.929825    806.181579   269311.929825\n",
       "904510  265789.473684   1060.473070   265789.473684\n",
       "920077  263157.632807    857.887193   263157.632807\n",
       "710484  261307.017544   1261.964035   261307.017544"
      ]
     },
     "execution_count": 61,
     "metadata": {},
     "output_type": "execute_result"
    }
   ],
   "source": [
    "data[['TotalClaims', 'TotalPremium', 'OptimalPremium']].sort_values(by='TotalClaims' , ascending=False).head(10)"
   ]
  },
  {
   "cell_type": "markdown",
   "metadata": {},
   "source": [
    "2) Encode categorical values from the user information"
   ]
  },
  {
   "cell_type": "code",
   "execution_count": 94,
   "metadata": {},
   "outputs": [],
   "source": [
    "# columns of car feature\n",
    "car_features = ['Cylinders', 'NewVehicle', 'RegistrationYear', 'VehicleType', 'NumberOfDoors', 'kilowatts']\n",
    "\n",
    "# columns of user location\n",
    "location_features = ['Country', 'Province', 'PostalCode', 'MainCrestaZone', 'SubCrestaZone']\n",
    "\n",
    "# columns of user information\n",
    "user_features = ['Gender', 'MaritalStatus', 'AccountType', 'Citizenship']\n",
    "\n",
    "# combine features\n",
    "all_features = [*car_features, *location_features, *user_features]"
   ]
  },
  {
   "cell_type": "code",
   "execution_count": 96,
   "metadata": {},
   "outputs": [],
   "source": [
    "# find categorical features\n",
    "data_types = data[all_features].dtypes\n",
    "\n",
    "categorical = []\n",
    "for idx, dtype in enumerate(data_types):\n",
    "    if dtype == object:\n",
    "        categorical.append(all_features[idx])"
   ]
  },
  {
   "cell_type": "markdown",
   "metadata": {},
   "source": [
    "Now encode the features"
   ]
  },
  {
   "cell_type": "code",
   "execution_count": 98,
   "metadata": {},
   "outputs": [],
   "source": [
    "# Initialize LabelEncoder\n",
    "label_encoder = LabelEncoder()\n",
    "\n",
    "# Encode each categorical feature\n",
    "for col in categorical:\n",
    "    # Apply LabelEncoder to each categorical column\n",
    "    data[f\"{col}_enc\"] = label_encoder.fit_transform(data[col])"
   ]
  }
 ],
 "metadata": {
  "kernelspec": {
   "display_name": "venv",
   "language": "python",
   "name": "python3"
  },
  "language_info": {
   "codemirror_mode": {
    "name": "ipython",
    "version": 3
   },
   "file_extension": ".py",
   "mimetype": "text/x-python",
   "name": "python",
   "nbconvert_exporter": "python",
   "pygments_lexer": "ipython3",
   "version": "3.10.2"
  }
 },
 "nbformat": 4,
 "nbformat_minor": 2
}
