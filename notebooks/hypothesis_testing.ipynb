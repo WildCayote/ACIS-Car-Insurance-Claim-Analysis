{
 "cells": [
  {
   "cell_type": "markdown",
   "metadata": {},
   "source": [
    "### Add scripts path to the notebook"
   ]
  },
  {
   "cell_type": "code",
   "execution_count": 1,
   "metadata": {},
   "outputs": [
    {
     "name": "stdout",
     "output_type": "stream",
     "text": [
      "d:\\KifiyaAIM-Course\\Week - 3\\ACIS-Car-Insurance-Claim-Analysis\\notebooks\n"
     ]
    }
   ],
   "source": [
    "import sys\n",
    "import os\n",
    "\n",
    "current_dir = os.getcwd()\n",
    "print(current_dir)\n",
    "\n",
    "# Get the parent directory\n",
    "parent_dir = os.path.dirname(current_dir)\n",
    "\n",
    "scripts_path = os.path.join(parent_dir, 'scripts')\n",
    "\n",
    "# Insert the path to the parent directory\n",
    "sys.path.insert(0, parent_dir)\n",
    "\n",
    "# Insert the path to the Scripts directory\n",
    "sys.path.insert(0, scripts_path)\n",
    "\n",
    "# Add the parent directory to the Python path\n",
    "sys.path.append(os.path.abspath(os.path.join('..')))"
   ]
  },
  {
   "cell_type": "markdown",
   "metadata": {},
   "source": [
    "### Import Statements"
   ]
  },
  {
   "cell_type": "code",
   "execution_count": 2,
   "metadata": {},
   "outputs": [],
   "source": [
    "import math\n",
    "import numpy as np\n",
    "import pandas as pd\n",
    "import seaborn as sns\n",
    "import matplotlib.pyplot as plt\n",
    "\n",
    "from scripts.ab_testing import annova_test, test_hypothesis, ab_test\n",
    "from scripts.utils import count_group_contribution"
   ]
  },
  {
   "cell_type": "markdown",
   "metadata": {},
   "source": [
    "### Load the data"
   ]
  },
  {
   "cell_type": "code",
   "execution_count": 3,
   "metadata": {},
   "outputs": [],
   "source": [
    "PATH_TO_DATA = \"../data/MachineLearningRating_v3.txt\""
   ]
  },
  {
   "cell_type": "code",
   "execution_count": 4,
   "metadata": {},
   "outputs": [],
   "source": [
    "data = pd.read_csv(filepath_or_buffer=PATH_TO_DATA, delimiter='|', low_memory=False)"
   ]
  },
  {
   "cell_type": "markdown",
   "metadata": {},
   "source": [
    "### Test 1\n",
    "\n",
    "- Null Hypothesis = There are no risk differences across provinces\n",
    "- Alternate Hypothesis = There are risk differences across provinces"
   ]
  },
  {
   "cell_type": "markdown",
   "metadata": {},
   "source": [
    "1) Define the KPIs that indicate risk for a given data point \n",
    "\n",
    "    From all the columns available TotalClaims and Total Premium are the best to show the risk of someone. I think it is a reasonable metric to tell if someone is a highrisk by seeing their amount of claim, because high claim amount means more acidents and more payout which means a higher risk.      "
   ]
  },
  {
   "cell_type": "code",
   "execution_count": 5,
   "metadata": {},
   "outputs": [
    {
     "data": {
      "text/plain": [
       "TotalClaims    0.0\n",
       "Province       0.0\n",
       "dtype: float64"
      ]
     },
     "execution_count": 5,
     "metadata": {},
     "output_type": "execute_result"
    }
   ],
   "source": [
    "data[['TotalClaims', 'Province']].isna().mean()"
   ]
  },
  {
   "cell_type": "markdown",
   "metadata": {},
   "source": [
    "All of the columns of interest (TotalClaims and Province) don't have null rows so let us proceed to other tasks."
   ]
  },
  {
   "cell_type": "code",
   "execution_count": 6,
   "metadata": {},
   "outputs": [
    {
     "data": {
      "text/plain": [
       "9"
      ]
     },
     "execution_count": 6,
     "metadata": {},
     "output_type": "execute_result"
    }
   ],
   "source": [
    "data['Province'].nunique()"
   ]
  },
  {
   "cell_type": "markdown",
   "metadata": {},
   "source": [
    "2) Run the annova test"
   ]
  },
  {
   "cell_type": "code",
   "execution_count": 7,
   "metadata": {},
   "outputs": [],
   "source": [
    "# calculate the p_value using my custom function that uses annova test\n",
    "f_statistics, p_value = annova_test(dependent_col='TotalClaims', independent_col='Province', data=data)"
   ]
  },
  {
   "cell_type": "markdown",
   "metadata": {},
   "source": [
    "3) Accept or reject the hypothesis based on the p_value result"
   ]
  },
  {
   "cell_type": "code",
   "execution_count": 8,
   "metadata": {},
   "outputs": [
    {
     "name": "stdout",
     "output_type": "stream",
     "text": [
      "Rejected the null hypothesis: There are no risk differences across provinces \n",
      "p_value: 1.6782057588675903e-07\n"
     ]
    }
   ],
   "source": [
    "test_hypothesis(null_hypothesis=\"There are no risk differences across provinces\", p_value=p_value)"
   ]
  },
  {
   "cell_type": "markdown",
   "metadata": {},
   "source": [
    "### Test 2\n",
    "\n",
    "- Null Hypothesis = There are no risk differences between zip codes\n",
    "- Alternate Hypothesis = There are risk differences between zip codes"
   ]
  },
  {
   "cell_type": "markdown",
   "metadata": {},
   "source": [
    "1) Check if there are ZIP codes absent"
   ]
  },
  {
   "cell_type": "code",
   "execution_count": 9,
   "metadata": {},
   "outputs": [
    {
     "data": {
      "text/plain": [
       "np.float64(0.0)"
      ]
     },
     "execution_count": 9,
     "metadata": {},
     "output_type": "execute_result"
    }
   ],
   "source": [
    "data['PostalCode'].isna().mean()"
   ]
  },
  {
   "cell_type": "markdown",
   "metadata": {},
   "source": [
    "2) Run the Annova test instead of A/B test because there are more than 2 zipcodes/postalcodes"
   ]
  },
  {
   "cell_type": "code",
   "execution_count": 10,
   "metadata": {},
   "outputs": [],
   "source": [
    "# calculate the p_value using my custom function that uses annova test\n",
    "f_statistics, p_value = annova_test(dependent_col='TotalClaims', independent_col='PostalCode', data=data)"
   ]
  },
  {
   "cell_type": "markdown",
   "metadata": {},
   "source": [
    "3) Accept or reject the hypothesis based on the p_value result"
   ]
  },
  {
   "cell_type": "code",
   "execution_count": 11,
   "metadata": {},
   "outputs": [
    {
     "name": "stdout",
     "output_type": "stream",
     "text": [
      "Accepted the null hypothesis: There are no risk differences between zip codes \n",
      "p_value: 0.8906511279164051\n"
     ]
    }
   ],
   "source": [
    "test_hypothesis(null_hypothesis=\"There are no risk differences between zip codes\", p_value=p_value)"
   ]
  },
  {
   "cell_type": "markdown",
   "metadata": {},
   "source": [
    "### Test 3\n",
    "\n",
    "- Null Hypothesis = There are no significant margin (profit) difference between zip codes\n",
    "- Alternate Hypothesis = There are significant margin (profit) difference between zip codes"
   ]
  },
  {
   "cell_type": "markdown",
   "metadata": {},
   "source": [
    "1) First calculate the margin(profit)"
   ]
  },
  {
   "cell_type": "code",
   "execution_count": 12,
   "metadata": {},
   "outputs": [],
   "source": [
    "data['Profit'] = data['TotalPremium'] - data['TotalClaims']"
   ]
  },
  {
   "cell_type": "markdown",
   "metadata": {},
   "source": [
    "2) Run the Annova test"
   ]
  },
  {
   "cell_type": "code",
   "execution_count": 13,
   "metadata": {},
   "outputs": [],
   "source": [
    "# calculate the p_value using my custom function that uses annova test\n",
    "f_statistics, p_value = annova_test(dependent_col='Profit', independent_col='PostalCode', data=data)"
   ]
  },
  {
   "cell_type": "markdown",
   "metadata": {},
   "source": [
    "3) Accept or reject the hypothesis based on the p_value result"
   ]
  },
  {
   "cell_type": "code",
   "execution_count": 14,
   "metadata": {},
   "outputs": [
    {
     "name": "stdout",
     "output_type": "stream",
     "text": [
      "Accepted the null hypothesis: There are no significant margin (profit) difference between zip codes \n",
      "p_value: 0.9976859758015036\n"
     ]
    }
   ],
   "source": [
    "test_hypothesis(null_hypothesis=\"There are no significant margin (profit) difference between zip codes\", p_value=p_value)"
   ]
  },
  {
   "cell_type": "markdown",
   "metadata": {},
   "source": [
    "### Test 4\n",
    "\n",
    "- Null Hypothesis = There are not significant risk difference between Women and Men\n",
    "- Alternate Hypothesis = There are significant risk difference between Women and Men"
   ]
  },
  {
   "cell_type": "markdown",
   "metadata": {},
   "source": [
    "1) Check for missing gender data values"
   ]
  },
  {
   "cell_type": "code",
   "execution_count": 15,
   "metadata": {},
   "outputs": [
    {
     "data": {
      "text/plain": [
       "np.float64(0.9535065563574769)"
      ]
     },
     "execution_count": 15,
     "metadata": {},
     "output_type": "execute_result"
    }
   ],
   "source": [
    "data['Gender'].isna().mean() * 100"
   ]
  },
  {
   "cell_type": "markdown",
   "metadata": {},
   "source": [
    "Check the available values in the Gender column"
   ]
  },
  {
   "cell_type": "code",
   "execution_count": 16,
   "metadata": {},
   "outputs": [
    {
     "data": {
      "text/plain": [
       "array(['Not specified', 'Male', 'Female', nan], dtype=object)"
      ]
     },
     "execution_count": 16,
     "metadata": {},
     "output_type": "execute_result"
    }
   ],
   "source": [
    "data['Gender'].unique()"
   ]
  },
  {
   "cell_type": "markdown",
   "metadata": {},
   "source": [
    "About 0.95% of the gender data is missing , so I can assign them to the value Not specified"
   ]
  },
  {
   "cell_type": "code",
   "execution_count": 17,
   "metadata": {},
   "outputs": [],
   "source": [
    "# fill the missing gender values with Not Specified\n",
    "data['Gender'] = data['Gender'].fillna(value='Not specified')"
   ]
  },
  {
   "cell_type": "markdown",
   "metadata": {},
   "source": [
    "2) Since there are 3 values for the Gender column, let me check the amount of data for each possible value"
   ]
  },
  {
   "cell_type": "code",
   "execution_count": 18,
   "metadata": {},
   "outputs": [
    {
     "name": "stdout",
     "output_type": "stream",
     "text": [
      "Female: 0.68% of the data\n",
      "Male: 4.28% of the data\n",
      "Not specified: 95.04% of the data\n"
     ]
    }
   ],
   "source": [
    "count_group_contribution(data=data, grouping_col='Gender')"
   ]
  },
  {
   "cell_type": "markdown",
   "metadata": {},
   "source": [
    "The data at hand is imbalanced when it comes to gender. I say that because for one the data points that have a value of 'Not specified' account for 95% while female and male combined account for a little over 5%. The other reason is even if I try to check if the data supports or rejects the hypothesis for differences in male and femle the amount of data difference between them makes the result ambiguous"
   ]
  },
  {
   "cell_type": "markdown",
   "metadata": {},
   "source": [
    "Filter the data with"
   ]
  },
  {
   "cell_type": "markdown",
   "metadata": {},
   "source": [
    "3) Run the A/B test"
   ]
  },
  {
   "cell_type": "code",
   "execution_count": 24,
   "metadata": {},
   "outputs": [
    {
     "name": "stdout",
     "output_type": "stream",
     "text": [
      "Female: 13.63% of the data\n",
      "Male: 86.37% of the data\n"
     ]
    }
   ],
   "source": [
    "# just keep the datapoints that are either male or female\n",
    "male_female_df = data[data['Gender'] !=  'Not specified']\n",
    "\n",
    "# see the new data distribution\n",
    "count_group_contribution(data=male_female_df, grouping_col='Gender')\n"
   ]
  },
  {
   "cell_type": "code",
   "execution_count": null,
   "metadata": {},
   "outputs": [],
   "source": [
    "# calculate the p_value using my custom function that uses ab test\n",
    "t_stat, p_value = ab_test(dependent_col='TotalClaims', independent_col='Gender', data=male_female_df)"
   ]
  },
  {
   "cell_type": "markdown",
   "metadata": {},
   "source": [
    "4) Accept or reject the null hypothesis"
   ]
  },
  {
   "cell_type": "code",
   "execution_count": 22,
   "metadata": {},
   "outputs": [
    {
     "name": "stdout",
     "output_type": "stream",
     "text": [
      "Accepted the null hypothesis: There are not significant risk difference between Women and Men \n",
      "p_value: 0.8041073961270343\n"
     ]
    }
   ],
   "source": [
    "test_hypothesis(null_hypothesis=\"There are not significant risk difference between Women and Men\", p_value=p_value)"
   ]
  },
  {
   "cell_type": "markdown",
   "metadata": {},
   "source": [
    "5) I decided to run an Annova Test on the entire gender data and see if there is a difference in result"
   ]
  },
  {
   "cell_type": "code",
   "execution_count": 25,
   "metadata": {},
   "outputs": [],
   "source": [
    "# calculate the p_value using my custom function that uses annova test\n",
    "f_statistics, p_value = annova_test(dependent_col='TotalClaims', independent_col='Gender', data=data)"
   ]
  },
  {
   "cell_type": "code",
   "execution_count": 26,
   "metadata": {},
   "outputs": [
    {
     "name": "stdout",
     "output_type": "stream",
     "text": [
      "Rejected the null hypothesis: There are not significant risk difference between Women and Men \n",
      "p_value: 0.010025171532279099\n"
     ]
    }
   ],
   "source": [
    "test_hypothesis(null_hypothesis=\"There are not significant risk difference between Women and Men\", p_value=p_value)"
   ]
  },
  {
   "cell_type": "markdown",
   "metadata": {},
   "source": [
    "So when I include the values of the rows with Gender value of 'Not specified', I get a test that suggest gender plays a role in the risk"
   ]
  }
 ],
 "metadata": {
  "kernelspec": {
   "display_name": "venv",
   "language": "python",
   "name": "python3"
  },
  "language_info": {
   "codemirror_mode": {
    "name": "ipython",
    "version": 3
   },
   "file_extension": ".py",
   "mimetype": "text/x-python",
   "name": "python",
   "nbconvert_exporter": "python",
   "pygments_lexer": "ipython3",
   "version": "3.10.2"
  }
 },
 "nbformat": 4,
 "nbformat_minor": 2
}
